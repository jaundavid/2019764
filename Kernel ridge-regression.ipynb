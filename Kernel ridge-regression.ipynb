{
 "metadata": {
  "name": ""
 },
 "nbformat": 3,
 "nbformat_minor": 0,
 "worksheets": [
  {
   "cells": [
    {
     "cell_type": "markdown",
     "metadata": {},
     "source": [
      "We define through list comprehension a function that returns the number of coincidences between two strings:"
     ]
    },
    {
     "cell_type": "code",
     "collapsed": false,
     "input": [
      "def coincidences(a,b):\n",
      "    return sum(x == y for (x, y) in zip(a, b))\n",
      "    "
     ],
     "language": "python",
     "metadata": {},
     "outputs": [],
     "prompt_number": 1
    },
    {
     "cell_type": "markdown",
     "metadata": {},
     "source": [
      "Ein beispiel anf\u00fcrhen:"
     ]
    },
    {
     "cell_type": "code",
     "collapsed": false,
     "input": [
      "print coincidences(\"car\",\"cat\"), coincidences(\"bat\",\"cat\"), coincidences(\"statistics\",\"computation\")"
     ],
     "language": "python",
     "metadata": {},
     "outputs": [
      {
       "output_type": "stream",
       "stream": "stdout",
       "text": [
        "2 2 0\n"
       ]
      }
     ],
     "prompt_number": 2
    },
    {
     "cell_type": "markdown",
     "metadata": {},
     "source": [
      "A kernel function in this setting is simply a inner product between two data points often after a non-linear function has been applied, i.e, $\\kappa(\\mathbf{u}, \\mathbf{v}) = \\phi (\\mathbf{u}) \\cdot \\phi (\\mathbf{v})$, where $\\mathbf{u},\\mathbf{v} \\in \\mathcal{X}$ and $\\phi : \\mathcal{X} \\rightarrow \\mathcal{F}$.\n",
      "\n",
      "$\\mathcal{X}$ is called el feature space and $\\mathcal{F}$ the feature space. In our case the input space is d-dimensional vector space $\\mathcal{X}=\\mathbb{R}^d$."
     ]
    },
    {
     "cell_type": "code",
     "collapsed": false,
     "input": [
      "import numpy as np\n",
      "\n",
      "data = np.genfromtxt(\"assign4-train.txt\", delimiter=\" \",\n",
      "                     dtype=(['|S9','float']))\n",
      "\n",
      "X = np.array([(str) for (str, val) in data])\n",
      "Y = np.array([(val) for (str, val) in data])"
     ],
     "language": "python",
     "metadata": {},
     "outputs": [],
     "prompt_number": 3
    },
    {
     "cell_type": "code",
     "collapsed": false,
     "input": [
      "l=len(data)"
     ],
     "language": "python",
     "metadata": {},
     "outputs": [],
     "prompt_number": 4
    },
    {
     "cell_type": "code",
     "collapsed": false,
     "input": [
      "data[0]"
     ],
     "language": "python",
     "metadata": {},
     "outputs": [
      {
       "metadata": {},
       "output_type": "pyout",
       "prompt_number": 5,
       "text": [
        "('CAAAGCCGG', -5.18906325187)"
       ]
      }
     ],
     "prompt_number": 5
    },
    {
     "cell_type": "markdown",
     "metadata": {},
     "source": [
      "In particular the predictive function $g(\\mathbf{x}) = \\mathbf{y}'(\\mathbf{G}+ \\lambda\\mathbf{I}_\\ell)^{-1}\\mathbf{k}$.\n",
      "\n",
      "Where $\\mathbf{G}_{ij} = \\langle \\phi(\\mathbf{x}_i),\\phi(\\mathbf{x}_j) \\rangle$, and the rows of $\\mathbf{X}$ are the feature vector $\\phi(\\mathbf{x})\\cdots\\phi(\\mathbf{x}_\\ell)$ and the vector $\\mathbf{k}$ contains the values $\\mathbf{k_i} = \\langle \\phi(\\mathbf{x}_i),\\phi(\\mathbf{x}) \\rangle$"
     ]
    },
    {
     "cell_type": "code",
     "collapsed": false,
     "input": [
      "import numpy as np\n",
      "from numpy.linalg import inv\n",
      "\n",
      "G = np.zeros((l,l))\n",
      "for i in range(l):\n",
      "    for j in range(l):\n",
      "        G[i][j]=coincidences(X[i],X[j])\n",
      "        \n",
      "G = np.matrix(G)\n",
      "\n",
      "def g(x):\n",
      "    lamb = 0.00001\n",
      "    return float(Y*inv(G + lamb*np.eye(l))*k(x).T)\n",
      "\n",
      "def k(x):\n",
      "    return np.matrix([coincidences(i,x) for i in X])\n"
     ],
     "language": "python",
     "metadata": {},
     "outputs": [],
     "prompt_number": 6
    },
    {
     "cell_type": "markdown",
     "metadata": {},
     "source": [
      "Testing with this kernel we get the average squared error on training set $\\sum_i (g(\\mathbf{x_i})-y(\\mathbf{x_i}))^2 \\approx 51.72$"
     ]
    },
    {
     "cell_type": "code",
     "collapsed": false,
     "input": [
      "error = 0\n",
      "pred = []\n",
      "\n",
      "for i in range(l):    \n",
      "    pred.append(g(X[i]))\n",
      "    error += pow(pred[i] - Y[i],2)\n",
      "\n",
      "print error"
     ],
     "language": "python",
     "metadata": {},
     "outputs": [
      {
       "output_type": "stream",
       "stream": "stdout",
       "text": [
        "51.7193369756\n"
       ]
      }
     ],
     "prompt_number": 7
    },
    {
     "cell_type": "code",
     "collapsed": false,
     "input": [
      "import pylab as pl\n",
      "\n",
      "pl.scatter(range(0,l),pred,color='magenta',marker='o')\n",
      "pl.scatter(range(0,l),Y,color='cyan', marker='^')"
     ],
     "language": "python",
     "metadata": {},
     "outputs": [
      {
       "metadata": {},
       "output_type": "pyout",
       "prompt_number": 8,
       "text": [
        "<matplotlib.collections.PathCollection at 0x7f136086ccd0>"
       ]
      }
     ],
     "prompt_number": 8
    },
    {
     "cell_type": "markdown",
     "metadata": {},
     "source": [
      "the average squared error on test set $\\sum_i (g(\\mathbf{x_i})-y(\\mathbf{x_i}))^2 \\approx 41.37$"
     ]
    },
    {
     "cell_type": "code",
     "collapsed": false,
     "input": [
      "test = np.genfromtxt(\"assign4-test.txt\", delimiter=\" \",\n",
      "                     dtype=(['|S9','float']))\n",
      "lt = len(test)\n",
      "Xt = np.array([(str) for (str, val) in test])\n",
      "Yt = np.array([(val) for (str, val) in test])\n",
      "\n",
      "error_test = 0\n",
      "pred_test = []\n",
      "\n",
      "for i in range(lt):    \n",
      "    pred_test.append(g(Xt[i]))\n",
      "    error_test += pow(pred_test[i] - Yt[i],2)\n",
      "    \n",
      "\n",
      "print error_test\n",
      "import pylab as pl\n",
      "\n",
      "pl.scatter(range(0,l),pred,color='magenta',marker='o')\n",
      "pl.scatter(range(0,l),Y,color='cyan', marker='^')"
     ],
     "language": "python",
     "metadata": {},
     "outputs": [
      {
       "output_type": "stream",
       "stream": "stdout",
       "text": [
        "41.3686882317\n"
       ]
      },
      {
       "metadata": {},
       "output_type": "pyout",
       "prompt_number": 9,
       "text": [
        "<matplotlib.collections.PathCollection at 0x7f136081af50>"
       ]
      }
     ],
     "prompt_number": 9
    },
    {
     "cell_type": "code",
     "collapsed": false,
     "input": [],
     "language": "python",
     "metadata": {},
     "outputs": []
    }
   ],
   "metadata": {}
  }
 ]
}