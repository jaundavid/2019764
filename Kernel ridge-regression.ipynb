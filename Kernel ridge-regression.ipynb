{
 "metadata": {
  "name": ""
 },
 "nbformat": 3,
 "nbformat_minor": 0,
 "worksheets": [
  {
   "cells": [
    {
     "cell_type": "markdown",
     "metadata": {},
     "source": [
      "We define through list comprehension a function that returns the number of coincidences between two strings:"
     ]
    },
    {
     "cell_type": "code",
     "collapsed": false,
     "input": [
      "def coincidences(a,b):\n",
      "    return sum(x == y for (x, y) in zip(a, b))\n",
      "    "
     ],
     "language": "python",
     "metadata": {},
     "outputs": [],
     "prompt_number": 1
    },
    {
     "cell_type": "markdown",
     "metadata": {},
     "source": [
      "Ein beispiel anf\u00fcrhen:"
     ]
    },
    {
     "cell_type": "code",
     "collapsed": false,
     "input": [
      "print coincidences(\"car\",\"cat\"), coincidences(\"bat\",\"cat\"), coincidences(\"statistics\",\"computation\")"
     ],
     "language": "python",
     "metadata": {},
     "outputs": [
      {
       "output_type": "stream",
       "stream": "stdout",
       "text": [
        "2 2 0\n"
       ]
      }
     ],
     "prompt_number": 2
    },
    {
     "cell_type": "markdown",
     "metadata": {},
     "source": [
      "A kernel function in this setting is simply a inner product between two data points often after a non-linear function has been applied, i.e, $\\kappa(\\mathbf{u}, \\mathbf{v}) = \\phi (\\mathbf{u}) \\cdot \\phi (\\mathbf{v})$, where $\\mathbf{u},\\mathbf{v} \\in \\mathcal{X}$ and $\\phi : \\mathcal{X} \\rightarrow \\mathcal{F}$.\n",
      "\n",
      "$\\mathcal{X}$ is called el feature space and $\\mathcal{F}$ the feature space. In our case the input space is d-dimensional vector space $\\mathcal{X}=\\mathbb{R}^d$."
     ]
    },
    {
     "cell_type": "code",
     "collapsed": false,
     "input": [
      "import numpy as np\n",
      "\n",
      "data = np.genfromtxt(\"assign4-train.txt\", delimiter=\" \",\n",
      "                     dtype=(['|S9','float']))\n",
      "X = np.array([(str) for (str, val) in data])\n",
      "Y = np.array([(val) for (str, val) in data])"
     ],
     "language": "python",
     "metadata": {},
     "outputs": [
      {
       "output_type": "stream",
       "stream": "stdout",
       "text": [
        "\n"
       ]
      }
     ],
     "prompt_number": 113
    },
    {
     "cell_type": "code",
     "collapsed": false,
     "input": [
      "l=len(data)"
     ],
     "language": "python",
     "metadata": {},
     "outputs": [],
     "prompt_number": 114
    },
    {
     "cell_type": "code",
     "collapsed": false,
     "input": [
      "data[0]"
     ],
     "language": "python",
     "metadata": {},
     "outputs": [
      {
       "metadata": {},
       "output_type": "pyout",
       "prompt_number": 115,
       "text": [
        "('CAAAGCCGG', -5.18906325187)"
       ]
      }
     ],
     "prompt_number": 115
    },
    {
     "cell_type": "markdown",
     "metadata": {},
     "source": [
      "In particular the predictive function $g(\\mathbf{x}) = \\mathbf{y}'(\\mathbf{G}+ \\lambda\\mathbf{I}_\\ell)^{-1}\\mathbf{k}$.\n",
      "\n",
      "Where $\\mathbf{G}_{ij} = \\langle \\phi(\\mathbf{x}_i),\\phi(\\mathbf{x}_j) \\rangle$, and the rows of $\\mathbf{X}$ are the feature vector $\\phi(\\mathbf{x})\\phi(\\mathbf{x}_\\ell)$ and the vector $\\mathbf{k}$ contains the values $\\mathbf{k_i} = \\langle \\phi(\\mathbf{x}_i),\\phi(\\mathbf{x}) \\rangle$"
     ]
    },
    {
     "cell_type": "code",
     "collapsed": false,
     "input": [
      "import numpy as np\n",
      "from numpy.linalg import inv\n",
      "\n",
      "G = np.zeros((l,l))\n",
      "for i in range(l):\n",
      "    for j in range(l):\n",
      "        G[i][j]=coincidences(X[i],X[j])\n",
      "G = np.matrix(G)\n",
      "#Y = np.matrix(Y)\n",
      "\n",
      "def g(x):\n",
      "    lamb = 0.00001\n",
      "    return float(Y*inv(G + lamb*np.zeros((l,l)))*k(x).T)\n",
      "\n",
      "def k(x):\n",
      "    return np.matrix([coincidences(i,x) for i in X])\n",
      "\n",
      "for i in range(4):\n",
      "    print \"i =\", X[i], \"Y_i =\", Y[i], \"g_i =\", g(X[i])"
     ],
     "language": "python",
     "metadata": {},
     "outputs": [
      {
       "output_type": "stream",
       "stream": "stdout",
       "text": [
        "i = CAAAGCCGG Y_i = -5.18906325187 g_i = 25052.0\n",
        "i = TCATCCCTG Y_i = 4.28131606936 g_i = 27784.0\n",
        "i = TGGCGTGCT Y_i = -0.301845302067 g_i = -2744.0\n",
        "i = ACTGGGGGT Y_i = 3.70180552666 g_i = 15348.0\n"
       ]
      }
     ],
     "prompt_number": 123
    },
    {
     "cell_type": "code",
     "collapsed": false,
     "input": [
      "error = 0\n",
      "pred = []\n",
      "for i in range(l):    \n",
      "    pred.append(g(X[i]))\n",
      "    error += pow(pred[i] - Y[i],2)\n",
      "\n",
      "print error"
     ],
     "language": "python",
     "metadata": {},
     "outputs": [
      {
       "output_type": "stream",
       "stream": "stdout",
       "text": [
        "14047856866.1\n"
       ]
      }
     ],
     "prompt_number": 124
    },
    {
     "cell_type": "code",
     "collapsed": false,
     "input": [
      "import pylab as pl\n",
      "\n",
      "pl.plot(range(0,l),pred,'r+')\n",
      "pl.plot(range(0,l),Y,'b^')"
     ],
     "language": "python",
     "metadata": {},
     "outputs": [
      {
       "metadata": {},
       "output_type": "pyout",
       "prompt_number": 125,
       "text": [
        "[<matplotlib.lines.Line2D at 0x7f5fd3cc87d0>]"
       ]
      },
      {
       "metadata": {},
       "output_type": "display_data",
       "png": "[encoded data removed]",
       "text": [
        "<matplotlib.figure.Figure at 0x7f5fdc0303d0>"
       ]
      }
     ],
     "prompt_number": 125
    },
    {
     "cell_type": "code",
     "collapsed": false,
     "input": [],
     "language": "python",
     "metadata": {},
     "outputs": []
    }
   ],
   "metadata": {}
  }
 ]
}