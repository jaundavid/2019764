{
 "metadata": {
  "name": "",
  "signature": "sha256:c55df8ef7fca73685b4123d233181d64290f5d8a111432199d531c4771e406ad"
 },
 "nbformat": 3,
 "nbformat_minor": 0,
 "worksheets": [
  {
   "cells": [
    {
     "cell_type": "code",
     "collapsed": false,
     "input": [
      "import numpy as np\n",
      "from scipy.io import loadmat\n",
      "from random import randint\n",
      "\n",
      "def sampleImages():\n",
      "  mat = loadmat('IMAGES.mat')\n",
      "  images = mat['IMAGES']\n",
      "  patchSize = 8\n",
      "  numPatches = 10000\n",
      "  patches = np.zeros((patchSize*patchSize,numPatches))\n",
      "\n",
      "  for i in range(numPatches):\n",
      "    img = randint(0,9)\n",
      "    i,j = randint(0,503),randint(0,503)\n",
      "    patches[:,i] = images[i:i+patchSize,j:j+patchSize,img].reshape(patchSize*patchSize)\n",
      "\n",
      "  return normalizeData(patches)\n"
     ],
     "language": "python",
     "metadata": {},
     "outputs": [],
     "prompt_number": 1
    },
    {
     "cell_type": "code",
     "collapsed": false,
     "input": [
      "def normalizeData(patches):\n",
      "  mean = patches.mean(axis=0)\n",
      "  patches = patches - mean\n",
      "  pstd = 3 * patches.std()\n",
      "  patches = np.maximum(np.minimum(patches, pstd), -pstd) / pstd\n",
      "  patches = (1 + patches) * 0.4 + 0.1\n",
      "  return patches"
     ],
     "language": "python",
     "metadata": {},
     "outputs": [],
     "prompt_number": 2
    },
    {
     "cell_type": "code",
     "collapsed": false,
     "input": [
      "def sigmoid(x):\n",
      "  return 1 / (1 + np.exp(-x))\n",
      "\n",
      "def KL(x,y):\n",
      "  return x*np.log(x/y) + (1-x)*np.log((1- x)/(1-y)) "
     ],
     "language": "python",
     "metadata": {},
     "outputs": [],
     "prompt_number": 3
    },
    {
     "cell_type": "code",
     "collapsed": false,
     "input": [
      "def sparseAutoencoderCost(theta, visibleSize, hiddenSize, lamb,\n",
      "                          sparsityParam, beta, data):\n",
      "   #Unroll parameters \n",
      "   W1 = theta[0:hidden_size * visible_size].reshape(hidden_size, visible_size)\n",
      "   W2 = theta[hidden_size * visible_size:2 * hidden_size * visible_size].reshape(visible_size, hidden_size)\n",
      "   b1 = theta[2 * hidden_size * visible_size:2 * hidden_size * visible_size + hidden_size]\n",
      "   b2 = theta[2 * hidden_size * visible_size + hidden_size:]\n",
      "   \n",
      "    #Initialize\n",
      "   cost = 0\n",
      "   W1grad = np.zeros(shape(W1))\n",
      "   W2grad = np.zeros(shape(W2))\n",
      "   b1grad = np.zeros(shape(b1))\n",
      "   b2grad = np.zeros(shape(b2))\n",
      "   \n",
      "   m = len(data)\n",
      "   \n",
      "   #Forward propagation\n",
      "   z2 = W1.dot(data) + b\n",
      "   a2 = sigmoid(z2)\n",
      "   z3 = W2.dot(a2) + b\n",
      "   h = sigmoid(z3) #a3\n",
      "   \n",
      "   sparsityParamHat = (1/m)*sum(a2)\n",
      "   cost = (1/m)*sum((h-data)**2) + (lamb/2)*(sum(W2**2)+sum(W1**2)) + beta*sum(KL(sparsityParamHat,sparsityParam))\n",
      "    \n",
      "   #Backpropagation\n",
      "   delta3=-(data-h).*h\n",
      "   delta2=W2.transpose.dot(delta3) .* a2\n",
      "    \n",
      "   #compute the desired partial derivates\n",
      "   W1grad = delta2*a1.Transpose\n",
      "   W2grad = delta3*a2.Transpose\n",
      "   b1grad = delta2\n",
      "   b2grad = delta3 \n",
      "   "
     ],
     "language": "python",
     "metadata": {},
     "outputs": [],
     "prompt_number": 5
    },
    {
     "cell_type": "markdown",
     "metadata": {},
     "source": [
      "Given a training set of $m$ examples, we then define the overall cost function to be:\n",
      "\n",
      "$$ J(W,b) = [\\frac{1}{m}]$$"
     ]
    },
    {
     "cell_type": "code",
     "collapsed": false,
     "input": [],
     "language": "python",
     "metadata": {},
     "outputs": []
    },
    {
     "cell_type": "code",
     "collapsed": false,
     "input": [],
     "language": "python",
     "metadata": {},
     "outputs": []
    }
   ],
   "metadata": {}
  }
 ]
}