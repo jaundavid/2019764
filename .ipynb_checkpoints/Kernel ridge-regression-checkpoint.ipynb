{
 "metadata": {
  "name": ""
 },
 "nbformat": 3,
 "nbformat_minor": 0,
 "worksheets": [
  {
   "cells": [
    {
     "cell_type": "markdown",
     "metadata": {},
     "source": [
      "We define through list comprehension a function that returns the number of coincidences between two strings:"
     ]
    },
    {
     "cell_type": "code",
     "collapsed": false,
     "input": [
      "def coincidences(a,b):\n",
      "    return [x == y for (x, y) in zip(a, b)].count(True)\n",
      "    "
     ],
     "language": "python",
     "metadata": {},
     "outputs": [],
     "prompt_number": 9
    },
    {
     "cell_type": "markdown",
     "metadata": {},
     "source": [
      "Ein beispiel anf\u00fcrhen:"
     ]
    },
    {
     "cell_type": "code",
     "collapsed": false,
     "input": [
      "print coincidences(\"car\",\"cat\"), coincidences(\"bat\",\"cat\"), coincidences(\"statistics\",\"computation\")"
     ],
     "language": "python",
     "metadata": {},
     "outputs": [
      {
       "output_type": "stream",
       "stream": "stdout",
       "text": [
        "2 2 0\n"
       ]
      }
     ],
     "prompt_number": 11
    },
    {
     "cell_type": "markdown",
     "metadata": {},
     "source": [
      "A kernel function in this setting is simply a inner product between two data points often after a non-linear function has been applied, i.e, $\\kappa(\\mathbf{u}, \\mathbf{v}) = \\phi (\\mathbf{u}) \\cdot \\phi (\\mathbf{v})$, where $\\mathbf{u},\\mathbf{v} \\in \\mathcal{X}$ and $\\phi : \\mathcal{X} \\rightarrow \\mathcal{F}$.\n",
      "\n",
      "$\\mathcal{X}$ is called el feature space and $\\mathcal{F}$ the feature space. In our case the input space is d-dimensional vector space $\\mathcal{X}=\\mathbb{R}^d$."
     ]
    },
    {
     "cell_type": "code",
     "collapsed": false,
     "input": [
      "import numpy as np\n",
      "\n",
      "data = np.genfromtxt(\"assign4-train.txt\", delimiter=\" \",\n",
      "                     dtype=[('chain','|S9'),('val','float')])"
     ],
     "language": "python",
     "metadata": {},
     "outputs": [],
     "prompt_number": 42
    },
    {
     "cell_type": "code",
     "collapsed": false,
     "input": [
      "len(data)"
     ],
     "language": "python",
     "metadata": {},
     "outputs": [
      {
       "metadata": {},
       "output_type": "pyout",
       "prompt_number": 43,
       "text": [
        "100"
       ]
      }
     ],
     "prompt_number": 43
    },
    {
     "cell_type": "code",
     "collapsed": false,
     "input": [
      "data[0]"
     ],
     "language": "python",
     "metadata": {},
     "outputs": [
      {
       "metadata": {},
       "output_type": "pyout",
       "prompt_number": 44,
       "text": [
        "('CAAAGCCGG', -5.18906325187)"
       ]
      }
     ],
     "prompt_number": 44
    },
    {
     "cell_type": "code",
     "collapsed": false,
     "input": [],
     "language": "python",
     "metadata": {},
     "outputs": []
    }
   ],
   "metadata": {}
  }
 ]
}