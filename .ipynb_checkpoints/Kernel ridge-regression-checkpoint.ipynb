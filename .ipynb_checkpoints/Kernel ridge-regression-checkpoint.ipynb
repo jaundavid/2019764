{
 "metadata": {
  "name": ""
 },
 "nbformat": 3,
 "nbformat_minor": 0,
 "worksheets": [
  {
   "cells": [
    {
     "cell_type": "markdown",
     "metadata": {},
     "source": [
      "We define through list comprehension a function that returns the number of coincidences between two strings:"
     ]
    },
    {
     "cell_type": "code",
     "collapsed": false,
     "input": [
      "def coincidences(a,b):\n",
      "    return sum(x == y for (x, y) in zip(a, b))\n",
      "    "
     ],
     "language": "python",
     "metadata": {},
     "outputs": [],
     "prompt_number": 1
    },
    {
     "cell_type": "markdown",
     "metadata": {},
     "source": [
      "Ein beispiel anf\u00fcrhen:"
     ]
    },
    {
     "cell_type": "code",
     "collapsed": false,
     "input": [
      "print coincidences(\"car\",\"cat\"), coincidences(\"bat\",\"cat\"), coincidences(\"statistics\",\"computation\")"
     ],
     "language": "python",
     "metadata": {},
     "outputs": [
      {
       "output_type": "stream",
       "stream": "stdout",
       "text": [
        "2 2 0\n"
       ]
      }
     ],
     "prompt_number": 2
    },
    {
     "cell_type": "markdown",
     "metadata": {},
     "source": [
      "A kernel function in this setting is simply a inner product between two data points often after a non-linear function has been applied, i.e, $\\kappa(\\mathbf{u}, \\mathbf{v}) = \\phi (\\mathbf{u}) \\cdot \\phi (\\mathbf{v})$, where $\\mathbf{u},\\mathbf{v} \\in \\mathcal{X}$ and $\\phi : \\mathcal{X} \\rightarrow \\mathcal{F}$.\n",
      "\n",
      "$\\mathcal{X}$ is called el feature space and $\\mathcal{F}$ the feature space. In our case the input space is d-dimensional vector space $\\mathcal{X}=\\mathbb{R}^d$."
     ]
    },
    {
     "cell_type": "code",
     "collapsed": false,
     "input": [
      "import numpy as np\n",
      "\n",
      "data = np.genfromtxt(\"assign4-train.txt\", delimiter=\" \",\n",
      "                     dtype=(['|S9','float']))\n",
      "X = np.array([(str) for (str, val) in data])\n",
      "Y = np.array([(val) for (str, val) in data])"
     ],
     "language": "python",
     "metadata": {},
     "outputs": [],
     "prompt_number": 41
    },
    {
     "cell_type": "code",
     "collapsed": false,
     "input": [
      "l=len(data)"
     ],
     "language": "python",
     "metadata": {},
     "outputs": [],
     "prompt_number": 38
    },
    {
     "cell_type": "code",
     "collapsed": false,
     "input": [
      "data[0]"
     ],
     "language": "python",
     "metadata": {},
     "outputs": [
      {
       "metadata": {},
       "output_type": "pyout",
       "prompt_number": 43,
       "text": [
        "('CAAAGCCGG', -5.18906325187)"
       ]
      }
     ],
     "prompt_number": 43
    },
    {
     "cell_type": "markdown",
     "metadata": {},
     "source": [
      "In particular the predictive function $g(\\mathbf{x}) = \\mathbf{y}'(\\mathbf{G}+ \\lambda\\mathbf{I}_\\ell)^{-1}\\mathbf{k}$.\n",
      "\n",
      "Where $\\mathbf{G}_{ij} = \\langle \\phi(\\mathbf{x}_i),\\phi(\\mathbf{x}_j) \\rangle$, and the rows of $\\mathbf{X}$ are the feature vector $\\phi(\\mathbf{x})\\phi(\\mathbf{x}_\\ell)$ and the vector $\\mathbf{k}$ contains the values $\\mathbf{k_i} = \\langle \\phi(\\mathbf{x}_i),\\phi(\\mathbf{x}) \\rangle$"
     ]
    },
    {
     "cell_type": "code",
     "collapsed": false,
     "input": [
      "import numpy as np\n",
      "from numpy.linalg import inv\n",
      "\n",
      "G = np.zeros((l,l))\n",
      "for i in range(l):\n",
      "    for j in range(l):\n",
      "        G[i][j]=coincidences(X[i],X[j])\n",
      "\n",
      "def g(x):\n",
      "    lamb =1\n",
      "    return np.dot(np.dot(Y,inv(G + lamb*np.zeros((l,l)))),k(x))\n",
      "\n",
      "def k(x):\n",
      "    return [coincidences(i,x) for i in X]\n",
      "\n",
      "for i in range(4):\n",
      "    for j in range(4):\n",
      "        print \"i =\", X[i], \"j =\", X[j], \"G_ij =\", G[i][j], \"g_ij =\", g(X[i])"
     ],
     "language": "python",
     "metadata": {},
     "outputs": [
      {
       "output_type": "stream",
       "stream": "stdout",
       "text": [
        "i = CAAAGCCGG j = CAAAGCCGG G_ij = 9.0 g_ij = 25052.0\n",
        "i = CAAAGCCGG j = TCATCCCTG G_ij = 4.0 g_ij = 25052.0\n",
        "i = CAAAGCCGG j = TGGCGTGCT G_ij = 1.0 g_ij = 25052.0\n",
        "i = CAAAGCCGG j = ACTGGGGGT G_ij = 2.0 g_ij = 25052.0\n",
        "i = TCATCCCTG j = CAAAGCCGG G_ij = 4.0 g_ij = 27784.0\n",
        "i = TCATCCCTG j = TCATCCCTG G_ij = 9.0 g_ij = 27784.0\n",
        "i = TCATCCCTG j = TGGCGTGCT G_ij = 1.0 g_ij = 27784.0\n",
        "i = TCATCCCTG j = ACTGGGGGT G_ij = 1.0 g_ij = 27784.0\n",
        "i = TGGCGTGCT j = CAAAGCCGG G_ij = 1.0 g_ij = -2744.0\n",
        "i = TGGCGTGCT j = TCATCCCTG G_ij = 1.0 g_ij = -2744.0\n",
        "i = TGGCGTGCT j = TGGCGTGCT G_ij = 9.0 g_ij = -2744.0\n",
        "i = TGGCGTGCT j = ACTGGGGGT G_ij = 3.0 g_ij = -2744.0\n",
        "i = ACTGGGGGT j = CAAAGCCGG G_ij = 2.0 g_ij = 15348.0\n",
        "i = ACTGGGGGT j = TCATCCCTG G_ij = 1.0 g_ij = 15348.0\n",
        "i = ACTGGGGGT j = TGGCGTGCT G_ij = 3.0 g_ij = 15348.0\n",
        "i = ACTGGGGGT j = ACTGGGGGT G_ij = 9.0 g_ij = 15348.0\n"
       ]
      }
     ],
     "prompt_number": 58
    },
    {
     "cell_type": "code",
     "collapsed": false,
     "input": [],
     "language": "python",
     "metadata": {},
     "outputs": []
    }
   ],
   "metadata": {}
  }
 ]
}