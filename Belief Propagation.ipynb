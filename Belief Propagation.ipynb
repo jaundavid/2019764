{
 "metadata": {
  "name": ""
 },
 "nbformat": 3,
 "nbformat_minor": 0,
 "worksheets": [
  {
   "cells": [
    {
     "cell_type": "heading",
     "level": 1,
     "metadata": {},
     "source": [
      "Belief Propagation"
     ]
    },
    {
     "cell_type": "markdown",
     "metadata": {},
     "source": [
      "Here we define the probabilities in a list as the exercise says:"
     ]
    },
    {
     "cell_type": "code",
     "collapsed": false,
     "input": [
      "def getProbabilities(n):\n",
      "    listodds = [0.5]\n",
      "    for a in range(n+1):\n",
      "        listodds.append((a+1.0)/(a+2.0))\n",
      "    return listodds\n",
      "\n",
      "print getProbabilities(10)"
     ],
     "language": "python",
     "metadata": {},
     "outputs": [
      {
       "output_type": "stream",
       "stream": "stdout",
       "text": [
        "[0.5, 0.5, 0.6666666666666666, 0.75, 0.8, 0.8333333333333334, 0.8571428571428571, 0.875, 0.8888888888888888, 0.9, 0.9090909090909091, 0.9166666666666666]\n",
        "1\n",
        "1.0\n",
        "1.0\n",
        "1.0\n",
        "1.0\n",
        "1.0\n"
       ]
      }
     ],
     "prompt_number": 7
    },
    {
     "cell_type": "markdown",
     "metadata": {},
     "source": [
      "Then we define the formula in order to get $\\pi()$ and $\\lambda()$. Actually there is a problem about propagating the evidence, hence the algorithm is not working properly."
     ]
    },
    {
     "cell_type": "code",
     "collapsed": false,
     "input": [
      "def getpi(listodds, position, E):\n",
      "    prop = listodds[position]\n",
      "    pron = 1 - prop\n",
      "    if position != 0:\n",
      "        a, b = getpi(listodds, position - 1, E)\n",
      "        print a,b\n",
      "        return prop*a + pron*b, 1-(prop*a + pron*b)\n",
      "    else:\n",
      "        return E[0],1-E[0]\n",
      "    \n",
      "print getpi(getProbabilities(10), 5, [1,0])\n",
      "\n",
      "def getlambda(listodds, position, E):\n",
      "    prop = listodds[position]\n",
      "    pron = 1 - prop\n",
      "    if position != len(listodds) + 1:\n",
      "        a, b = getpi(listodds, position + 1, E)\n",
      "        return prop*a + pron*b, 1-(prop*a + pron*b)\n",
      "    else:\n",
      "        return E[1], 1-E[1]\n",
      "\n",
      "print getlambda(getProbabilities(10), 5, [1,0])"
     ],
     "language": "python",
     "metadata": {},
     "outputs": [
      {
       "output_type": "stream",
       "stream": "stdout",
       "text": [
        "1 0\n",
        "0.5 0.5\n",
        "0.5 0.5\n",
        "0.5 0.5\n",
        "0.5 0.5\n",
        "(0.5, 0.5)\n",
        "1 0\n",
        "0.5 0.5\n",
        "0.5 0.5\n",
        "0.5 0.5\n",
        "0.5 0.5\n",
        "0.5 0.5\n",
        "(0.5, 0.5)\n"
       ]
      }
     ],
     "prompt_number": 8
    },
    {
     "cell_type": "markdown",
     "metadata": {},
     "source": [
      "It could be due to lack of knowledge aboutthe proper construction of $\\pi()$ and $\\lambda()$"
     ]
    }
   ],
   "metadata": {}
  }
 ]
}