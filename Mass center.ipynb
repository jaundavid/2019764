{
 "metadata": {
  "name": ""
 },
 "nbformat": 3,
 "nbformat_minor": 0,
 "worksheets": [
  {
   "cells": [
    {
     "cell_type": "heading",
     "level": 1,
     "metadata": {},
     "source": [
      "Calculating the average distance to the center of mass"
     ]
    },
    {
     "cell_type": "markdown",
     "metadata": {},
     "source": [
      "Let $x = \\{x_1 , . . . , x_n \\}$ be a subset of a input data set $X$. Consider a kernel function $k : X\u00d7X \u2192\n",
      "R$, which induces a feature space $\\phi(X)$\n",
      "\n",
      "(a) Deduce an expression, that allows to calculate the average distance to the center of mass\n",
      "of the image of set x in the feature space:\n",
      "\n",
      "$\\frac{1}{n}\\sum_{i=1}^{n}\\|\\phi(x_i)-\\phi_S(x)\\|_{\\phi(X)}$\n",
      "\n",
      "where the center of mass is defined as\n",
      "\n",
      "$\\phi_S(X) = \\frac{1}{n}\\sum_{i=1}^{n}\\phi(x_i)$\n",
      "\n",
      "Using the formulae we get that"
     ]
    },
    {
     "cell_type": "code",
     "collapsed": false,
     "input": [
      "%%latex\n",
      "\\begin{aligned}\n",
      "\\frac{1}{n}\\sum_{i=1}^{n}\\|\\phi(x_i)-\\phi_S(x)\\|_{\\phi(X)}\\\\\n",
      "\\frac{1}{n}\\sum_{i=1}^{n}\\|\\phi(x_i)-\\frac{1}{n}\\sum_{j=1}^{n}\\phi(x_j)\\|\\\\\n",
      "\\frac{1}{n}\\sum_{i=1}^{n}\\sqrt{\\langle\\phi(x_i)-\\frac{1}{n}\\sum_{j=1}^{n}\\phi(x_j), \\phi(x_i)-\\frac{1}{n}\\sum_{j=1}^{n}\\phi(x_j)\\rangle}\\\\\n",
      "\\frac{1}{n}\\sum_{i=1}^{n}\\sqrt{\\langle\\phi(x_i),\\phi(x_i)\\rangle-\\frac{1}{n}\\sum_{j=1}^{n}\\langle\\phi(x_i),\\phi(x_j)\\rangle-\\frac{1}{n}\\sum_{j=1}^{n}\\langle\\phi(x_i),\\phi(x_j)\\rangle+\\frac{1}{n^2}\\sum_{j=1}^{n}\\sum_{k=1}^{n}\\langle\\phi(x_j),\\phi(x_k)\\rangle}\\\\\n",
      "\\frac{1}{n}\\sum_{i=1}^{n}\\sqrt{\\langle\\phi(x_i),\\phi(x_i)\\rangle-\\frac{2}{n}\\sum_{j=1}^{n}\\langle\\phi(x_i),\\phi(x_j)\\rangle+\\frac{1}{n^2}\\sum_{j=1}^{n}\\sum_{k=1}^{n}\\langle\\phi(x_j),\\phi(x_k)\\rangle}\\\\\n",
      "\\end{aligned}"
     ],
     "language": "python",
     "metadata": {},
     "outputs": [
      {
       "latex": [
        "\\begin{aligned}\n",
        "\\frac{1}{n}\\sum_{i=1}^{n}\\|\\phi(x_i)-\\phi_S(x)\\|_{\\phi(X)}\\\\\n",
        "\\frac{1}{n}\\sum_{i=1}^{n}\\|\\phi(x_i)-\\frac{1}{n}\\sum_{j=1}^{n}\\phi(x_j)\\|\\\\\n",
        "\\frac{1}{n}\\sum_{i=1}^{n}\\sqrt{\\langle\\phi(x_i)-\\frac{1}{n}\\sum_{j=1}^{n}\\phi(x_j), \\phi(x_i)-\\frac{1}{n}\\sum_{j=1}^{n}\\phi(x_j)\\rangle}\\\\\n",
        "\\frac{1}{n}\\sum_{i=1}^{n}\\sqrt{\\langle\\phi(x_i),\\phi(x_i)\\rangle-\\frac{1}{n}\\sum_{j=1}^{n}\\langle\\phi(x_i),\\phi(x_j)\\rangle-\\frac{1}{n}\\sum_{j=1}^{n}\\langle\\phi(x_i),\\phi(x_j)\\rangle+\\frac{1}{n^2}\\sum_{j=1}^{n}\\sum_{k=1}^{n}\\langle\\phi(x_j),\\phi(x_k)\\rangle}\\\\\n",
        "\\frac{1}{n}\\sum_{i=1}^{n}\\sqrt{\\langle\\phi(x_i),\\phi(x_i)\\rangle-\\frac{2}{n}\\sum_{j=1}^{n}\\langle\\phi(x_i),\\phi(x_j)\\rangle+\\frac{1}{n^2}\\sum_{j=1}^{n}\\sum_{k=1}^{n}\\langle\\phi(x_j),\\phi(x_k)\\rangle}\\\\\n",
        "\n",
        "\\frac{1}{n}\\sum_{i=1}^{n}\\sqrt{\\langle\\phi(x_i),\\phi(x_i)\\rangle+\\frac{1}{n^2}\\sum_{k,j=1}^{n}\\langle\\phi(x_k),\\phi(x_j)\\rangle-\\frac{2}{n}\\sum_{j=1}^{n}\\langle\\phi(x_i),\\phi(x_j)\\rangle}\\\\\n",
        "\\end{aligned}"
       ],
       "metadata": {},
       "output_type": "display_data",
       "text": [
        "<IPython.core.display.Latex at 0x7f6ccf05c450>"
       ]
      }
     ],
     "prompt_number": 26
    },
    {
     "cell_type": "markdown",
     "metadata": {},
     "source": [
      "Note that:"
     ]
    },
    {
     "cell_type": "code",
     "collapsed": false,
     "input": [
      "%%latex\n",
      "\\begin{aligned}\n",
      "\\frac{1}{n}\\sum_{i=1}^{n}\\sqrt{\\langle\\phi(x_i),\\phi(x_i)\\rangle-\\frac{2}{n}\\sum_{j=1}^{n}\\langle\\phi(x_i),\\phi(x_j)\\rangle+\\frac{1}{n^2}\\sum_{j=1}^{n}\\sum_{k=1}^{n}\\langle\\phi(x_j),\\phi(x_k)\\rangle} = \\frac{1}{n}\\sum_{i=1}^{n}\\sqrt{\\langle\\phi(x_i),\\phi(x_i)\\rangle-2\\langle\\phi(x_i),\\phi_S\\rangle+\\langle\\phi_S,\\phi_S\\rangle}\\\\\n",
      "\\end{aligned}"
     ],
     "language": "python",
     "metadata": {},
     "outputs": [
      {
       "latex": [
        "\\begin{aligned}\n",
        "\\frac{1}{n}\\sum_{i=1}^{n}\\sqrt{\\langle\\phi(x_i),\\phi(x_i)\\rangle-\\frac{2}{n}\\sum_{j=1}^{n}\\langle\\phi(x_i),\\phi(x_j)\\rangle+\\frac{1}{n^2}\\sum_{j=1}^{n}\\sum_{k=1}^{n}\\langle\\phi(x_j),\\phi(x_k)\\rangle} = \\frac{1}{n}\\sum_{i=1}^{n}\\sqrt{\\langle\\phi(x_i),\\phi(x_i)\\rangle-2\\langle\\phi(x_i),\\phi_S\\rangle+\\langle\\phi_S,\\phi_S\\rangle}\\\\\n",
        "\\end{aligned}"
       ],
       "metadata": {},
       "output_type": "display_data",
       "text": [
        "<IPython.core.display.Latex at 0x7f6cbffc8c50>"
       ]
      }
     ],
     "prompt_number": 27
    },
    {
     "cell_type": "markdown",
     "metadata": {},
     "source": [
      "Then we vectorize to get an expression to calculate the average distance:"
     ]
    },
    {
     "cell_type": "code",
     "collapsed": false,
     "input": [
      "%%latex\n",
      "\\begin{aligned}\n",
      "\\frac{1}{n}\\sum_{i=1}^{n}\\sqrt{\\langle\\phi(x_i),\\phi(x_i)\\rangle+\\frac{1}{n^2}\\sum_{k,j=1}^{n}\\langle\\phi(x_k),\\phi(x_j)\\rangle-\\frac{2}{n}\\sum_{j=1}^{n}\\langle\\phi(x_i),\\phi(x_j)\\rangle}\\\\\n",
      "\\frac{1}{n}\\sum_{i=1}^{n}\\sqrt{G(i,i)+\\frac{1}{n^2}\\sum_{k,j=1}^{n}G(k,j)-\\frac{2}{n}\\sum_{j=1}^{n}G(i,j)}\\\\\n",
      "\\frac{1}{n}\\sum_{i=1}^{n}\\sqrt{G(i,i)+\\frac{1}{n^2}1_{1xn}G1_{nx1}-\\frac{2}{n}G_{(i)}1_{nx1}}\\\\\n",
      "\\end{aligned}"
     ],
     "language": "python",
     "metadata": {},
     "outputs": [
      {
       "latex": [
        "\\begin{aligned}\n",
        "\\frac{1}{n}\\sum_{i=1}^{n}\\sqrt{\\langle\\phi(x_i),\\phi(x_i)\\rangle+\\frac{1}{n^2}\\sum_{k,j=1}^{n}\\langle\\phi(x_k),\\phi(x_j)\\rangle-\\frac{2}{n}\\sum_{j=1}^{n}\\langle\\phi(x_i),\\phi(x_j)\\rangle}\\\\\n",
        "\\frac{1}{n}\\sum_{i=1}^{n}\\sqrt{G(i,i)+\\frac{1}{n^2}\\sum_{k,j=1}^{n}G(k,j)-\\frac{2}{n}\\sum_{j=1}^{n}G(i,j)}\\\\\n",
        "\\frac{1}{n}\\sum_{i=1}^{n}\\sqrt{G(i,i)+\\frac{1}{n^2}1_{1xn}G1_{nx1}-\\frac{2}{n}G_{(i)}1_{nx1}}\\\\\n",
        "\\end{aligned}"
       ],
       "metadata": {},
       "output_type": "display_data",
       "text": [
        "<IPython.core.display.Latex at 0x7f6ccf0628d0>"
       ]
      }
     ],
     "prompt_number": 34
    },
    {
     "cell_type": "markdown",
     "metadata": {},
     "source": [
      "(b) Use the previous expression to calculate the average distance to the center of mass of\n",
      "the following point set in $\\mathbb{R}^2 , x = \\{(0, 1), (\u22121, 3), (2, 4), (3, \u22121), (\u22121, \u22122)\\}$, in the feature\n",
      "spaces induced by the following kernels:\n",
      "\n",
      "\n",
      "i.$ k(x, y) = \\langle x, y\\rangle$  \n",
      "ii.$ k(x, y) = \\langle x, y\\rangle^2$  \n",
      "iii.$ k(x, y) = {( \\langle x, y\\rangle + 1)}^5$  \n",
      "iv. Gaussian kernel with \u03c3 = 1."
     ]
    },
    {
     "cell_type": "code",
     "collapsed": false,
     "input": [
      "import numpy as np\n",
      "import scipy"
     ],
     "language": "python",
     "metadata": {},
     "outputs": [],
     "prompt_number": 106
    },
    {
     "cell_type": "markdown",
     "metadata": {},
     "source": [
      "We define the set of points"
     ]
    },
    {
     "cell_type": "code",
     "collapsed": false,
     "input": [
      "X=np.array([[0, 1], [-1, 3], [2, 4], [3.0, -1], [-1, -2]])"
     ],
     "language": "python",
     "metadata": {},
     "outputs": [],
     "prompt_number": 113
    },
    {
     "cell_type": "markdown",
     "metadata": {},
     "source": [
      "Next we define the linear kernel"
     ]
    },
    {
     "cell_type": "code",
     "collapsed": false,
     "input": [
      "Klinear = np.dot(X, X.T)\n",
      "Klinear"
     ],
     "language": "python",
     "metadata": {},
     "outputs": [
      {
       "metadata": {},
       "output_type": "pyout",
       "prompt_number": 143,
       "text": [
        "array([[  1.,   3.,   4.,  -1.,  -2.],\n",
        "       [  3.,  10.,  10.,  -6.,  -5.],\n",
        "       [  4.,  10.,  20.,   2., -10.],\n",
        "       [ -1.,  -6.,   2.,  10.,  -1.],\n",
        "       [ -2.,  -5., -10.,  -1.,   5.]])"
       ]
      }
     ],
     "prompt_number": 143
    },
    {
     "cell_type": "markdown",
     "metadata": {},
     "source": [
      "Here we define a cuadratic kernel"
     ]
    },
    {
     "cell_type": "code",
     "collapsed": false,
     "input": [
      "Kcuadratic = Klinear ** 2\n",
      "Kcuadratic"
     ],
     "language": "python",
     "metadata": {},
     "outputs": [
      {
       "metadata": {},
       "output_type": "pyout",
       "prompt_number": 145,
       "text": [
        "array([[   1.,    9.,   16.,    1.,    4.],\n",
        "       [   9.,  100.,  100.,   36.,   25.],\n",
        "       [  16.,  100.,  400.,    4.,  100.],\n",
        "       [   1.,   36.,    4.,  100.,    1.],\n",
        "       [   4.,   25.,  100.,    1.,   25.]])"
       ]
      }
     ],
     "prompt_number": 145
    },
    {
     "cell_type": "markdown",
     "metadata": {},
     "source": [
      "The next one corresponds to the polynomial kernel"
     ]
    },
    {
     "cell_type": "code",
     "collapsed": false,
     "input": [
      "Kpoly = (np.dot(X, X.T) + 1) ** 5\n",
      "Kpoly"
     ],
     "language": "python",
     "metadata": {},
     "outputs": [
      {
       "metadata": {},
       "output_type": "pyout",
       "prompt_number": 146,
       "text": [
        "array([[  3.20000000e+01,   1.02400000e+03,   3.12500000e+03,\n",
        "          0.00000000e+00,  -1.00000000e+00],\n",
        "       [  1.02400000e+03,   1.61051000e+05,   1.61051000e+05,\n",
        "         -3.12500000e+03,  -1.02400000e+03],\n",
        "       [  3.12500000e+03,   1.61051000e+05,   4.08410100e+06,\n",
        "          2.43000000e+02,  -5.90490000e+04],\n",
        "       [  0.00000000e+00,  -3.12500000e+03,   2.43000000e+02,\n",
        "          1.61051000e+05,   0.00000000e+00],\n",
        "       [ -1.00000000e+00,  -1.02400000e+03,  -5.90490000e+04,\n",
        "          0.00000000e+00,   7.77600000e+03]])"
       ]
      }
     ],
     "prompt_number": 146
    },
    {
     "cell_type": "markdown",
     "metadata": {},
     "source": [
      "Using the code below we calculate the gaussian kernel"
     ]
    },
    {
     "cell_type": "code",
     "collapsed": false,
     "input": [
      "from scipy.spatial.distance import pdist, squareform\n",
      "pairwise_dists = squareform(pdist(X, 'euclidean'))\n",
      "Kgaussian = scipy.exp(-(pairwise_dists ** 2))"
     ],
     "language": "python",
     "metadata": {},
     "outputs": [],
     "prompt_number": 147
    },
    {
     "cell_type": "code",
     "collapsed": false,
     "input": [
      "Kgaussian"
     ],
     "language": "python",
     "metadata": {},
     "outputs": [
      {
       "metadata": {},
       "output_type": "pyout",
       "prompt_number": 148,
       "text": [
        "array([[  1.00000000e+00,   6.73794700e-03,   2.26032941e-06,\n",
        "          2.26032941e-06,   4.53999298e-05],\n",
        "       [  6.73794700e-03,   1.00000000e+00,   4.53999298e-05,\n",
        "          1.26641655e-14,   1.38879439e-11],\n",
        "       [  2.26032941e-06,   4.53999298e-05,   1.00000000e+00,\n",
        "          5.10908903e-12,   2.86251858e-20],\n",
        "       [  2.26032941e-06,   1.26641655e-14,   5.10908903e-12,\n",
        "          1.00000000e+00,   4.13993772e-08],\n",
        "       [  4.53999298e-05,   1.38879439e-11,   2.86251858e-20,\n",
        "          4.13993772e-08,   1.00000000e+00]])"
       ]
      }
     ],
     "prompt_number": 148
    },
    {
     "cell_type": "markdown",
     "metadata": {},
     "source": [
      "Below we defined the function to get the average distance. It receives as parameters the Kernel matrix and the number of elements in the set. In this case this number is five."
     ]
    },
    {
     "cell_type": "code",
     "collapsed": false,
     "input": [
      "def getAverageDistance(K, n):\n",
      "    result = 0\n",
      "    for i in range(n):\n",
      "        subK = np.dot(K, np.ones((n, 1)))\n",
      "        result += np.sqrt(K[i, i] + (1.0/n ** 2) * np.dot(np.ones((1, n)), np.dot(K, np.ones((n, 1)))) - (2.0/n) * subK[i])\n",
      "    return result / n"
     ],
     "language": "python",
     "metadata": {},
     "outputs": [],
     "prompt_number": 150
    },
    {
     "cell_type": "markdown",
     "metadata": {},
     "source": [
      "Finally we get the results for each kernel"
     ]
    },
    {
     "cell_type": "code",
     "collapsed": false,
     "input": [
      "result = getAverageDistance(Klinear, 5)\n",
      "print result"
     ],
     "language": "python",
     "metadata": {},
     "outputs": [
      {
       "output_type": "stream",
       "stream": "stdout",
       "text": [
        "[[ 2.59918773]]\n"
       ]
      }
     ],
     "prompt_number": 153
    },
    {
     "cell_type": "code",
     "collapsed": false,
     "input": [
      "result = getAverageDistance(Kcuadratic, 5)\n",
      "print result"
     ],
     "language": "python",
     "metadata": {},
     "outputs": [
      {
       "output_type": "stream",
       "stream": "stdout",
       "text": [
        "[[ 7.93374824]]\n"
       ]
      }
     ],
     "prompt_number": 154
    },
    {
     "cell_type": "code",
     "collapsed": false,
     "input": [
      "result = getAverageDistance(Kpoly, 5)\n",
      "print result"
     ],
     "language": "python",
     "metadata": {},
     "outputs": [
      {
       "output_type": "stream",
       "stream": "stdout",
       "text": [
        "[[ 699.76726163]]\n"
       ]
      }
     ],
     "prompt_number": 155
    },
    {
     "cell_type": "code",
     "collapsed": false,
     "input": [
      "result = getAverageDistance(Kgaussian, 5)\n",
      "print result"
     ],
     "language": "python",
     "metadata": {},
     "outputs": [
      {
       "output_type": "stream",
       "stream": "stdout",
       "text": [
        "[[ 0.89412124]]\n"
       ]
      }
     ],
     "prompt_number": 156
    }
   ],
   "metadata": {}
  }
 ]
}